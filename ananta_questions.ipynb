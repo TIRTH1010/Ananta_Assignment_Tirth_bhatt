{
 "cells": [
  {
   "cell_type": "markdown",
   "metadata": {},
   "source": [
    "### Q1 completed :  extracting zip file read csv with keyword “60d_DAM_PTPObligationBidAwards” and appending all into final csv"
   ]
  },
  {
   "cell_type": "markdown",
   "metadata": {},
   "source": [
    "#### importing all neccesary libraries"
   ]
  },
  {
   "cell_type": "code",
   "execution_count": 29,
   "metadata": {},
   "outputs": [],
   "source": [
    "import os\n",
    "import pandas as pd \n",
    "import numpy as np \n",
    "import zipfile"
   ]
  },
  {
   "cell_type": "code",
   "execution_count": 30,
   "metadata": {},
   "outputs": [],
   "source": [
    "# importing required modules \n",
    "from zipfile import ZipFile "
   ]
  },
  {
   "cell_type": "markdown",
   "metadata": {},
   "source": [
    "# Reading all zip files"
   ]
  },
  {
   "cell_type": "code",
   "execution_count": 31,
   "metadata": {},
   "outputs": [],
   "source": [
    "files=os.listdir(r\"C:\\Users\\tirth\\OneDrive\\Desktop\\anata test py file\\Que1\")"
   ]
  },
  {
   "cell_type": "code",
   "execution_count": 32,
   "metadata": {},
   "outputs": [
    {
     "name": "stdout",
     "output_type": "stream",
     "text": [
      "['ext.00013051.0000000000000000.20210301.055231994.60_Day_DAM_Disclosure.zip', 'ext.00013051.0000000000000000.20210302.052231653.60_Day_DAM_Disclosure.zip', 'ext.00013051.0000000000000000.20210303.052231446.60_Day_DAM_Disclosure.zip', 'ext.00013051.0000000000000000.20210304.052231556.60_Day_DAM_Disclosure.zip', 'ext.00013051.0000000000000000.20210305.052231809.60_Day_DAM_Disclosure.zip', 'ext.00013051.0000000000000000.20210306.052231786.60_Day_DAM_Disclosure.zip', 'ext.00013051.0000000000000000.20210307.053731820.60_Day_DAM_Disclosure.zip', 'ext.00013051.0000000000000000.20210308.053733384.60_Day_DAM_Disclosure.zip', 'ext.00013051.0000000000000000.20210309.053731346.60_Day_DAM_Disclosure.zip', 'ext.00013051.0000000000000000.20210310.055117272.60_Day_DAM_Disclosure.zip', 'ext.00013051.0000000000000000.20210311.060116708.60_Day_DAM_Disclosure.zip', 'ext.00013051.0000000000000000.20210312.060117413.60_Day_DAM_Disclosure.zip']\n"
     ]
    }
   ],
   "source": [
    "print(files)"
   ]
  },
  {
   "cell_type": "code",
   "execution_count": 33,
   "metadata": {},
   "outputs": [],
   "source": [
    "os.makedirs('myallcsv')"
   ]
  },
  {
   "cell_type": "markdown",
   "metadata": {},
   "source": [
    "### Extracting and dumping all csv in common folder"
   ]
  },
  {
   "cell_type": "code",
   "execution_count": 35,
   "metadata": {},
   "outputs": [
    {
     "name": "stdout",
     "output_type": "stream",
     "text": [
      "File Name                                             Modified             Size\n",
      "60d_DAM_PTP_Obligation_OptionAwards-01-MAR-21.csv 2021-03-01 05:48:26       677075\n",
      "60d_DAM_PTPObligationBidAwards-01-MAR-21.csv   2021-03-01 05:48:28      9969627\n",
      "Extracting all the files now...\n",
      "Done!\n",
      "File Name                                             Modified             Size\n",
      "60d_DAM_PTPObligationBids-02-MAR-21.csv        2021-03-02 05:14:32      6664526\n",
      "60d_DAM_PTPObligationBidAwards-02-MAR-21.csv   2021-03-02 05:14:32      6294200\n",
      "60d_DAM_QSE_Self_Arranged_AS-02-MAR-21.csv     2021-03-02 05:14:32        55298\n",
      "Extracting all the files now...\n",
      "Done!\n",
      "File Name                                             Modified             Size\n",
      "60d_DAM_PTPObligationBids-03-MAR-21.csv        2021-03-03 05:18:54      7367540\n",
      "60d_DAM_PTPObligationBidAwards-03-MAR-21.csv   2021-03-03 05:18:54      6964378\n",
      "60d_DAM_QSE_Self_Arranged_AS-03-MAR-21.csv     2021-03-03 05:18:54        55810\n",
      "Extracting all the files now...\n",
      "Done!\n",
      "File Name                                             Modified             Size\n",
      "60d_DAM_PTPObligationBids-04-MAR-21.csv        2021-03-04 05:21:54      7696301\n",
      "60d_DAM_PTPObligationBidAwards-04-MAR-21.csv   2021-03-04 05:21:54      7269793\n",
      "60d_DAM_QSE_Self_Arranged_AS-04-MAR-21.csv     2021-03-04 05:21:54        55374\n",
      "Extracting all the files now...\n",
      "Done!\n",
      "File Name                                             Modified             Size\n",
      "60d_DAM_PTPObligationBids-05-MAR-21.csv        2021-03-05 05:18:00      7821896\n",
      "60d_DAM_PTPObligationBidAwards-05-MAR-21.csv   2021-03-05 05:18:02      7384942\n",
      "60d_DAM_QSE_Self_Arranged_AS-05-MAR-21.csv     2021-03-05 05:18:02        55402\n",
      "Extracting all the files now...\n",
      "Done!\n",
      "File Name                                             Modified             Size\n",
      "60d_DAM_PTPObligationBids-06-MAR-21.csv        2021-03-06 05:21:48      9686158\n",
      "60d_DAM_PTPObligationBidAwards-06-MAR-21.csv   2021-03-06 05:21:48      9162377\n",
      "60d_DAM_QSE_Self_Arranged_AS-06-MAR-21.csv     2021-03-06 05:21:50        56353\n",
      "Extracting all the files now...\n",
      "Done!\n",
      "File Name                                             Modified             Size\n",
      "60d_DAM_PTPObligationBids-07-MAR-21.csv        2021-03-07 05:31:20     10827578\n",
      "60d_DAM_PTPObligationBidAwards-07-MAR-21.csv   2021-03-07 05:31:20     10265139\n",
      "60d_DAM_QSE_Self_Arranged_AS-07-MAR-21.csv     2021-03-07 05:31:20        57886\n",
      "Extracting all the files now...\n",
      "Done!\n",
      "File Name                                             Modified             Size\n",
      "60d_DAM_PTPObligationBids-08-MAR-21.csv        2021-03-08 05:26:28     10287748\n",
      "60d_DAM_PTPObligationBidAwards-08-MAR-21.csv   2021-03-08 05:26:28      9714844\n",
      "60d_DAM_QSE_Self_Arranged_AS-08-MAR-21.csv     2021-03-08 05:26:30        57776\n",
      "Extracting all the files now...\n",
      "Done!\n",
      "File Name                                             Modified             Size\n",
      "60d_DAM_PTPObligationBids-09-MAR-21.csv        2021-03-09 05:26:46      9667133\n",
      "60d_DAM_PTPObligationBidAwards-09-MAR-21.csv   2021-03-09 05:26:46      9143087\n",
      "60d_DAM_QSE_Self_Arranged_AS-09-MAR-21.csv     2021-03-09 05:26:46        57760\n",
      "Extracting all the files now...\n",
      "Done!\n",
      "File Name                                             Modified             Size\n",
      "60d_DAM_PTPObligationBids-10-MAR-21.csv        2021-03-10 05:43:16     10424915\n",
      "60d_DAM_PTPObligationBidAwards-10-MAR-21.csv   2021-03-10 05:43:18      9853296\n",
      "60d_DAM_QSE_Self_Arranged_AS-10-MAR-21.csv     2021-03-10 05:43:18        57834\n",
      "Extracting all the files now...\n",
      "Done!\n",
      "File Name                                             Modified             Size\n",
      "60d_DAM_PTPObligationBids-11-MAR-21.csv        2021-03-11 05:53:56     10766413\n",
      "60d_DAM_PTPObligationBidAwards-11-MAR-21.csv   2021-03-11 05:53:58     10225324\n",
      "60d_DAM_QSE_Self_Arranged_AS-11-MAR-21.csv     2021-03-11 05:53:58        57721\n",
      "Extracting all the files now...\n",
      "Done!\n",
      "File Name                                             Modified             Size\n",
      "60d_DAM_PTPObligationBids-12-MAR-21.csv        2021-03-12 05:51:28      9165178\n",
      "60d_DAM_PTPObligationBidAwards-12-MAR-21.csv   2021-03-12 05:51:28      8699457\n",
      "60d_DAM_QSE_Self_Arranged_AS-12-MAR-21.csv     2021-03-12 05:51:28        57830\n",
      "Extracting all the files now...\n",
      "Done!\n"
     ]
    }
   ],
   "source": [
    "for i in range(len(files)):\n",
    "\n",
    "    # specifying the zip file name \n",
    "    file_name = 'C:/Users/tirth/OneDrive/Desktop/anata test py file/Que1/'+ files[i]\n",
    "\n",
    "    # opening the zip file in READ mode \n",
    "    with ZipFile(file_name, 'r') as zip: \n",
    "        # printing all the contents of the zip file \n",
    "        zip.printdir() \n",
    "        \n",
    "\n",
    "        # extracting all the files \n",
    "        print('Extracting all the files now...') \n",
    "        zip.extractall(r'C:\\Users\\tirth\\OneDrive\\Desktop\\anata test py file\\myallcsv') \n",
    "        print('Done!') \n",
    "        "
   ]
  },
  {
   "cell_type": "code",
   "execution_count": 36,
   "metadata": {},
   "outputs": [],
   "source": [
    "csv_files=os.listdir(r'C:\\Users\\tirth\\OneDrive\\Desktop\\anata test py file\\myallcsv')"
   ]
  },
  {
   "cell_type": "code",
   "execution_count": 37,
   "metadata": {},
   "outputs": [
    {
     "data": {
      "text/plain": [
       "['60d_DAM_PTPObligationBidAwards-01-MAR-21.csv',\n",
       " '60d_DAM_PTPObligationBidAwards-02-MAR-21.csv',\n",
       " '60d_DAM_PTPObligationBidAwards-03-MAR-21.csv',\n",
       " '60d_DAM_PTPObligationBidAwards-04-MAR-21.csv',\n",
       " '60d_DAM_PTPObligationBidAwards-05-MAR-21.csv',\n",
       " '60d_DAM_PTPObligationBidAwards-06-MAR-21.csv',\n",
       " '60d_DAM_PTPObligationBidAwards-07-MAR-21.csv',\n",
       " '60d_DAM_PTPObligationBidAwards-08-MAR-21.csv',\n",
       " '60d_DAM_PTPObligationBidAwards-09-MAR-21.csv',\n",
       " '60d_DAM_PTPObligationBidAwards-10-MAR-21.csv',\n",
       " '60d_DAM_PTPObligationBidAwards-11-MAR-21.csv',\n",
       " '60d_DAM_PTPObligationBidAwards-12-MAR-21.csv',\n",
       " '60d_DAM_PTPObligationBids-02-MAR-21.csv',\n",
       " '60d_DAM_PTPObligationBids-03-MAR-21.csv',\n",
       " '60d_DAM_PTPObligationBids-04-MAR-21.csv',\n",
       " '60d_DAM_PTPObligationBids-05-MAR-21.csv',\n",
       " '60d_DAM_PTPObligationBids-06-MAR-21.csv',\n",
       " '60d_DAM_PTPObligationBids-07-MAR-21.csv',\n",
       " '60d_DAM_PTPObligationBids-08-MAR-21.csv',\n",
       " '60d_DAM_PTPObligationBids-09-MAR-21.csv',\n",
       " '60d_DAM_PTPObligationBids-10-MAR-21.csv',\n",
       " '60d_DAM_PTPObligationBids-11-MAR-21.csv',\n",
       " '60d_DAM_PTPObligationBids-12-MAR-21.csv',\n",
       " '60d_DAM_PTP_Obligation_OptionAwards-01-MAR-21.csv',\n",
       " '60d_DAM_QSE_Self_Arranged_AS-02-MAR-21.csv',\n",
       " '60d_DAM_QSE_Self_Arranged_AS-03-MAR-21.csv',\n",
       " '60d_DAM_QSE_Self_Arranged_AS-04-MAR-21.csv',\n",
       " '60d_DAM_QSE_Self_Arranged_AS-05-MAR-21.csv',\n",
       " '60d_DAM_QSE_Self_Arranged_AS-06-MAR-21.csv',\n",
       " '60d_DAM_QSE_Self_Arranged_AS-07-MAR-21.csv',\n",
       " '60d_DAM_QSE_Self_Arranged_AS-08-MAR-21.csv',\n",
       " '60d_DAM_QSE_Self_Arranged_AS-09-MAR-21.csv',\n",
       " '60d_DAM_QSE_Self_Arranged_AS-10-MAR-21.csv',\n",
       " '60d_DAM_QSE_Self_Arranged_AS-11-MAR-21.csv',\n",
       " '60d_DAM_QSE_Self_Arranged_AS-12-MAR-21.csv']"
      ]
     },
     "execution_count": 37,
     "metadata": {},
     "output_type": "execute_result"
    }
   ],
   "source": [
    "csv_files"
   ]
  },
  {
   "cell_type": "code",
   "execution_count": 52,
   "metadata": {},
   "outputs": [],
   "source": [
    "finaldf=pd.DataFrame()\n"
   ]
  },
  {
   "cell_type": "markdown",
   "metadata": {},
   "source": [
    "### adding all csv name starts with “60d_DAM_PTPObligationBidAwards” in one final df"
   ]
  },
  {
   "cell_type": "code",
   "execution_count": 54,
   "metadata": {},
   "outputs": [],
   "source": [
    "for file in csv_files:\n",
    "    if file.startswith('60d_DAM_PTPObligationBidAwards'):\n",
    "        df=pd.read_csv('C:/Users/tirth/OneDrive/Desktop/anata test py file/myallcsv/'+file)\n",
    "        finaldf=pd.concat([df,finaldf])\n",
    "\n"
   ]
  },
  {
   "cell_type": "code",
   "execution_count": 55,
   "metadata": {},
   "outputs": [
    {
     "data": {
      "text/html": [
       "<div>\n",
       "<style scoped>\n",
       "    .dataframe tbody tr th:only-of-type {\n",
       "        vertical-align: middle;\n",
       "    }\n",
       "\n",
       "    .dataframe tbody tr th {\n",
       "        vertical-align: top;\n",
       "    }\n",
       "\n",
       "    .dataframe thead th {\n",
       "        text-align: right;\n",
       "    }\n",
       "</style>\n",
       "<table border=\"1\" class=\"dataframe\">\n",
       "  <thead>\n",
       "    <tr style=\"text-align: right;\">\n",
       "      <th></th>\n",
       "      <th>Delivery Date</th>\n",
       "      <th>Hour Ending</th>\n",
       "      <th>QSE Name</th>\n",
       "      <th>Settlement Point Source</th>\n",
       "      <th>Settlement Point Sink</th>\n",
       "      <th>PtP Bid Award - MW</th>\n",
       "      <th>PtP Bid - Price</th>\n",
       "      <th>Bid ID</th>\n",
       "    </tr>\n",
       "  </thead>\n",
       "  <tbody>\n",
       "    <tr>\n",
       "      <th>0</th>\n",
       "      <td>01/11/2021</td>\n",
       "      <td>1</td>\n",
       "      <td>QAEN</td>\n",
       "      <td>EXGNWTL_1</td>\n",
       "      <td>LZ_AEN</td>\n",
       "      <td>0.0</td>\n",
       "      <td>22.37</td>\n",
       "      <td>PTP43</td>\n",
       "    </tr>\n",
       "    <tr>\n",
       "      <th>1</th>\n",
       "      <td>01/11/2021</td>\n",
       "      <td>1</td>\n",
       "      <td>QAEN</td>\n",
       "      <td>EXGNWTL_1</td>\n",
       "      <td>LZ_AEN</td>\n",
       "      <td>6.0</td>\n",
       "      <td>22.37</td>\n",
       "      <td>PTP25</td>\n",
       "    </tr>\n",
       "    <tr>\n",
       "      <th>2</th>\n",
       "      <td>01/11/2021</td>\n",
       "      <td>1</td>\n",
       "      <td>QAEN</td>\n",
       "      <td>EXGNWTL_1</td>\n",
       "      <td>LZ_AEN</td>\n",
       "      <td>6.0</td>\n",
       "      <td>22.37</td>\n",
       "      <td>PTP34</td>\n",
       "    </tr>\n",
       "    <tr>\n",
       "      <th>3</th>\n",
       "      <td>01/11/2021</td>\n",
       "      <td>1</td>\n",
       "      <td>QAEN</td>\n",
       "      <td>KARAKAW1_1</td>\n",
       "      <td>LZ_AEN</td>\n",
       "      <td>0.0</td>\n",
       "      <td>8.65</td>\n",
       "      <td>PTP77</td>\n",
       "    </tr>\n",
       "    <tr>\n",
       "      <th>4</th>\n",
       "      <td>01/11/2021</td>\n",
       "      <td>1</td>\n",
       "      <td>QAEN</td>\n",
       "      <td>KARAKAW1_1</td>\n",
       "      <td>LZ_AEN</td>\n",
       "      <td>27.0</td>\n",
       "      <td>8.65</td>\n",
       "      <td>PTP55</td>\n",
       "    </tr>\n",
       "    <tr>\n",
       "      <th>...</th>\n",
       "      <td>...</td>\n",
       "      <td>...</td>\n",
       "      <td>...</td>\n",
       "      <td>...</td>\n",
       "      <td>...</td>\n",
       "      <td>...</td>\n",
       "      <td>...</td>\n",
       "      <td>...</td>\n",
       "    </tr>\n",
       "    <tr>\n",
       "      <th>135392</th>\n",
       "      <td>12/31/2020</td>\n",
       "      <td>24</td>\n",
       "      <td>QXOEN3</td>\n",
       "      <td>HB_SOUTH</td>\n",
       "      <td>LZ_SOUTH</td>\n",
       "      <td>120.0</td>\n",
       "      <td>0.41</td>\n",
       "      <td>9030253</td>\n",
       "    </tr>\n",
       "    <tr>\n",
       "      <th>135393</th>\n",
       "      <td>12/31/2020</td>\n",
       "      <td>24</td>\n",
       "      <td>QXOEN3</td>\n",
       "      <td>HB_SOUTH</td>\n",
       "      <td>LZ_SOUTH</td>\n",
       "      <td>240.0</td>\n",
       "      <td>0.41</td>\n",
       "      <td>9030251</td>\n",
       "    </tr>\n",
       "    <tr>\n",
       "      <th>135394</th>\n",
       "      <td>12/31/2020</td>\n",
       "      <td>24</td>\n",
       "      <td>QXOEN3</td>\n",
       "      <td>HB_WEST</td>\n",
       "      <td>LZ_WEST</td>\n",
       "      <td>64.0</td>\n",
       "      <td>1.36</td>\n",
       "      <td>9030249</td>\n",
       "    </tr>\n",
       "    <tr>\n",
       "      <th>135395</th>\n",
       "      <td>12/31/2020</td>\n",
       "      <td>24</td>\n",
       "      <td>QXOEN3</td>\n",
       "      <td>HB_WEST</td>\n",
       "      <td>LZ_WEST</td>\n",
       "      <td>64.0</td>\n",
       "      <td>1.36</td>\n",
       "      <td>9030250</td>\n",
       "    </tr>\n",
       "    <tr>\n",
       "      <th>135396</th>\n",
       "      <td>12/31/2020</td>\n",
       "      <td>24</td>\n",
       "      <td>QXOEN3</td>\n",
       "      <td>HB_WEST</td>\n",
       "      <td>LZ_WEST</td>\n",
       "      <td>128.0</td>\n",
       "      <td>1.36</td>\n",
       "      <td>9030248</td>\n",
       "    </tr>\n",
       "  </tbody>\n",
       "</table>\n",
       "<p>1437118 rows × 8 columns</p>\n",
       "</div>"
      ],
      "text/plain": [
       "       Delivery Date  Hour Ending QSE Name Settlement Point Source  \\\n",
       "0         01/11/2021            1     QAEN               EXGNWTL_1   \n",
       "1         01/11/2021            1     QAEN               EXGNWTL_1   \n",
       "2         01/11/2021            1     QAEN               EXGNWTL_1   \n",
       "3         01/11/2021            1     QAEN              KARAKAW1_1   \n",
       "4         01/11/2021            1     QAEN              KARAKAW1_1   \n",
       "...              ...          ...      ...                     ...   \n",
       "135392    12/31/2020           24   QXOEN3                HB_SOUTH   \n",
       "135393    12/31/2020           24   QXOEN3                HB_SOUTH   \n",
       "135394    12/31/2020           24   QXOEN3                 HB_WEST   \n",
       "135395    12/31/2020           24   QXOEN3                 HB_WEST   \n",
       "135396    12/31/2020           24   QXOEN3                 HB_WEST   \n",
       "\n",
       "       Settlement Point Sink  PtP Bid Award - MW  PtP Bid - Price   Bid ID  \n",
       "0                     LZ_AEN                 0.0            22.37    PTP43  \n",
       "1                     LZ_AEN                 6.0            22.37    PTP25  \n",
       "2                     LZ_AEN                 6.0            22.37    PTP34  \n",
       "3                     LZ_AEN                 0.0             8.65    PTP77  \n",
       "4                     LZ_AEN                27.0             8.65    PTP55  \n",
       "...                      ...                 ...              ...      ...  \n",
       "135392              LZ_SOUTH               120.0             0.41  9030253  \n",
       "135393              LZ_SOUTH               240.0             0.41  9030251  \n",
       "135394               LZ_WEST                64.0             1.36  9030249  \n",
       "135395               LZ_WEST                64.0             1.36  9030250  \n",
       "135396               LZ_WEST               128.0             1.36  9030248  \n",
       "\n",
       "[1437118 rows x 8 columns]"
      ]
     },
     "execution_count": 55,
     "metadata": {},
     "output_type": "execute_result"
    }
   ],
   "source": [
    "finaldf"
   ]
  },
  {
   "cell_type": "markdown",
   "metadata": {},
   "source": [
    "### Saving it into final data frame"
   ]
  },
  {
   "cell_type": "code",
   "execution_count": 56,
   "metadata": {},
   "outputs": [],
   "source": [
    "finaldf.to_csv('myfinal60d_DAM_PTPObligationBidAwards.csv',index=False)"
   ]
  },
  {
   "cell_type": "markdown",
   "metadata": {},
   "source": [
    "### Q3 : Pandas based script - Read given csv file and perform below mentioned operation on the data:(Completed)"
   ]
  },
  {
   "cell_type": "code",
   "execution_count": 57,
   "metadata": {},
   "outputs": [],
   "source": [
    "# Reading a data from a file\n"
   ]
  },
  {
   "cell_type": "code",
   "execution_count": 58,
   "metadata": {},
   "outputs": [],
   "source": [
    "df=pd.read_csv(r\"C:\\Users\\tirth\\OneDrive\\Desktop\\ananta tests\\E-Folder\\Que3.csv\")"
   ]
  },
  {
   "cell_type": "code",
   "execution_count": 59,
   "metadata": {},
   "outputs": [
    {
     "data": {
      "text/html": [
       "<div>\n",
       "<style scoped>\n",
       "    .dataframe tbody tr th:only-of-type {\n",
       "        vertical-align: middle;\n",
       "    }\n",
       "\n",
       "    .dataframe tbody tr th {\n",
       "        vertical-align: top;\n",
       "    }\n",
       "\n",
       "    .dataframe thead th {\n",
       "        text-align: right;\n",
       "    }\n",
       "</style>\n",
       "<table border=\"1\" class=\"dataframe\">\n",
       "  <thead>\n",
       "    <tr style=\"text-align: right;\">\n",
       "      <th></th>\n",
       "      <th>Zone</th>\n",
       "      <th>Date</th>\n",
       "      <th>Temperature</th>\n",
       "      <th>ReportType</th>\n",
       "    </tr>\n",
       "  </thead>\n",
       "  <tbody>\n",
       "    <tr>\n",
       "      <th>0</th>\n",
       "      <td>A</td>\n",
       "      <td>4/1/2019</td>\n",
       "      <td>3.3</td>\n",
       "      <td>FM-15</td>\n",
       "    </tr>\n",
       "    <tr>\n",
       "      <th>1</th>\n",
       "      <td>A</td>\n",
       "      <td>4/1/2019</td>\n",
       "      <td>5.0</td>\n",
       "      <td>SOD</td>\n",
       "    </tr>\n",
       "    <tr>\n",
       "      <th>2</th>\n",
       "      <td>A</td>\n",
       "      <td>4/1/2019</td>\n",
       "      <td>5.0</td>\n",
       "      <td>SOM</td>\n",
       "    </tr>\n",
       "    <tr>\n",
       "      <th>3</th>\n",
       "      <td>A</td>\n",
       "      <td>4/1/2019</td>\n",
       "      <td>2.2</td>\n",
       "      <td>FM-15</td>\n",
       "    </tr>\n",
       "    <tr>\n",
       "      <th>4</th>\n",
       "      <td>A</td>\n",
       "      <td>4/1/2019</td>\n",
       "      <td>1.1</td>\n",
       "      <td>FM-15</td>\n",
       "    </tr>\n",
       "  </tbody>\n",
       "</table>\n",
       "</div>"
      ],
      "text/plain": [
       "  Zone      Date  Temperature ReportType\n",
       "0    A  4/1/2019          3.3      FM-15\n",
       "1    A  4/1/2019          5.0      SOD  \n",
       "2    A  4/1/2019          5.0      SOM  \n",
       "3    A  4/1/2019          2.2      FM-15\n",
       "4    A  4/1/2019          1.1      FM-15"
      ]
     },
     "execution_count": 59,
     "metadata": {},
     "output_type": "execute_result"
    }
   ],
   "source": [
    "df.head()"
   ]
  },
  {
   "cell_type": "markdown",
   "metadata": {},
   "source": [
    "### a. Temperature in the file is in degree Celsius. Convert it to Fahrenheit for all operations."
   ]
  },
  {
   "cell_type": "code",
   "execution_count": 60,
   "metadata": {},
   "outputs": [],
   "source": [
    "df['Temperature'] = df['Temperature'] * 9/5 + 32       "
   ]
  },
  {
   "cell_type": "markdown",
   "metadata": {},
   "source": [
    "### Temprature converted into fahrenhit"
   ]
  },
  {
   "cell_type": "code",
   "execution_count": 62,
   "metadata": {},
   "outputs": [
    {
     "data": {
      "text/html": [
       "<div>\n",
       "<style scoped>\n",
       "    .dataframe tbody tr th:only-of-type {\n",
       "        vertical-align: middle;\n",
       "    }\n",
       "\n",
       "    .dataframe tbody tr th {\n",
       "        vertical-align: top;\n",
       "    }\n",
       "\n",
       "    .dataframe thead th {\n",
       "        text-align: right;\n",
       "    }\n",
       "</style>\n",
       "<table border=\"1\" class=\"dataframe\">\n",
       "  <thead>\n",
       "    <tr style=\"text-align: right;\">\n",
       "      <th></th>\n",
       "      <th>Zone</th>\n",
       "      <th>Date</th>\n",
       "      <th>Temperature</th>\n",
       "      <th>ReportType</th>\n",
       "    </tr>\n",
       "  </thead>\n",
       "  <tbody>\n",
       "    <tr>\n",
       "      <th>0</th>\n",
       "      <td>A</td>\n",
       "      <td>4/1/2019</td>\n",
       "      <td>37.94</td>\n",
       "      <td>FM-15</td>\n",
       "    </tr>\n",
       "    <tr>\n",
       "      <th>1</th>\n",
       "      <td>A</td>\n",
       "      <td>4/1/2019</td>\n",
       "      <td>41.00</td>\n",
       "      <td>SOD</td>\n",
       "    </tr>\n",
       "    <tr>\n",
       "      <th>2</th>\n",
       "      <td>A</td>\n",
       "      <td>4/1/2019</td>\n",
       "      <td>41.00</td>\n",
       "      <td>SOM</td>\n",
       "    </tr>\n",
       "    <tr>\n",
       "      <th>3</th>\n",
       "      <td>A</td>\n",
       "      <td>4/1/2019</td>\n",
       "      <td>35.96</td>\n",
       "      <td>FM-15</td>\n",
       "    </tr>\n",
       "    <tr>\n",
       "      <th>4</th>\n",
       "      <td>A</td>\n",
       "      <td>4/1/2019</td>\n",
       "      <td>33.98</td>\n",
       "      <td>FM-15</td>\n",
       "    </tr>\n",
       "  </tbody>\n",
       "</table>\n",
       "</div>"
      ],
      "text/plain": [
       "  Zone      Date  Temperature ReportType\n",
       "0    A  4/1/2019        37.94      FM-15\n",
       "1    A  4/1/2019        41.00      SOD  \n",
       "2    A  4/1/2019        41.00      SOM  \n",
       "3    A  4/1/2019        35.96      FM-15\n",
       "4    A  4/1/2019        33.98      FM-15"
      ]
     },
     "execution_count": 62,
     "metadata": {},
     "output_type": "execute_result"
    }
   ],
   "source": [
    "df.head()"
   ]
  },
  {
   "cell_type": "markdown",
   "metadata": {},
   "source": [
    "### b. Prepare a table which gives Max temperature by Zone, by Date and combine unique Report Type in a row"
   ]
  },
  {
   "cell_type": "code",
   "execution_count": 77,
   "metadata": {},
   "outputs": [],
   "source": [
    "max_temp=df.groupby(['Zone', 'Date','ReportType'])[['Temperature']].max().reset_index()"
   ]
  },
  {
   "cell_type": "code",
   "execution_count": 78,
   "metadata": {},
   "outputs": [
    {
     "data": {
      "text/html": [
       "<div>\n",
       "<style scoped>\n",
       "    .dataframe tbody tr th:only-of-type {\n",
       "        vertical-align: middle;\n",
       "    }\n",
       "\n",
       "    .dataframe tbody tr th {\n",
       "        vertical-align: top;\n",
       "    }\n",
       "\n",
       "    .dataframe thead th {\n",
       "        text-align: right;\n",
       "    }\n",
       "</style>\n",
       "<table border=\"1\" class=\"dataframe\">\n",
       "  <thead>\n",
       "    <tr style=\"text-align: right;\">\n",
       "      <th></th>\n",
       "      <th>Zone</th>\n",
       "      <th>Date</th>\n",
       "      <th>ReportType</th>\n",
       "      <th>Temperature</th>\n",
       "    </tr>\n",
       "  </thead>\n",
       "  <tbody>\n",
       "    <tr>\n",
       "      <th>0</th>\n",
       "      <td>A</td>\n",
       "      <td>4/1/2019</td>\n",
       "      <td>FM-15</td>\n",
       "      <td>48.02</td>\n",
       "    </tr>\n",
       "    <tr>\n",
       "      <th>1</th>\n",
       "      <td>A</td>\n",
       "      <td>4/1/2019</td>\n",
       "      <td>FM-16</td>\n",
       "      <td>30.02</td>\n",
       "    </tr>\n",
       "    <tr>\n",
       "      <th>2</th>\n",
       "      <td>A</td>\n",
       "      <td>4/1/2019</td>\n",
       "      <td>SOD</td>\n",
       "      <td>41.00</td>\n",
       "    </tr>\n",
       "    <tr>\n",
       "      <th>3</th>\n",
       "      <td>A</td>\n",
       "      <td>4/1/2019</td>\n",
       "      <td>SOM</td>\n",
       "      <td>41.00</td>\n",
       "    </tr>\n",
       "    <tr>\n",
       "      <th>4</th>\n",
       "      <td>A</td>\n",
       "      <td>4/1/2020</td>\n",
       "      <td>FM-15</td>\n",
       "      <td>53.96</td>\n",
       "    </tr>\n",
       "    <tr>\n",
       "      <th>...</th>\n",
       "      <td>...</td>\n",
       "      <td>...</td>\n",
       "      <td>...</td>\n",
       "      <td>...</td>\n",
       "    </tr>\n",
       "    <tr>\n",
       "      <th>631</th>\n",
       "      <td>D</td>\n",
       "      <td>4/9/2019</td>\n",
       "      <td>FM-15</td>\n",
       "      <td>68.00</td>\n",
       "    </tr>\n",
       "    <tr>\n",
       "      <th>632</th>\n",
       "      <td>D</td>\n",
       "      <td>4/9/2019</td>\n",
       "      <td>SOD</td>\n",
       "      <td>41.00</td>\n",
       "    </tr>\n",
       "    <tr>\n",
       "      <th>633</th>\n",
       "      <td>D</td>\n",
       "      <td>4/9/2020</td>\n",
       "      <td>FM-15</td>\n",
       "      <td>55.94</td>\n",
       "    </tr>\n",
       "    <tr>\n",
       "      <th>634</th>\n",
       "      <td>D</td>\n",
       "      <td>4/9/2020</td>\n",
       "      <td>FM-16</td>\n",
       "      <td>55.04</td>\n",
       "    </tr>\n",
       "    <tr>\n",
       "      <th>635</th>\n",
       "      <td>D</td>\n",
       "      <td>4/9/2020</td>\n",
       "      <td>SOD</td>\n",
       "      <td>26.96</td>\n",
       "    </tr>\n",
       "  </tbody>\n",
       "</table>\n",
       "<p>636 rows × 4 columns</p>\n",
       "</div>"
      ],
      "text/plain": [
       "    Zone      Date ReportType  Temperature\n",
       "0      A  4/1/2019      FM-15        48.02\n",
       "1      A  4/1/2019      FM-16        30.02\n",
       "2      A  4/1/2019      SOD          41.00\n",
       "3      A  4/1/2019      SOM          41.00\n",
       "4      A  4/1/2020      FM-15        53.96\n",
       "..   ...       ...        ...          ...\n",
       "631    D  4/9/2019      FM-15        68.00\n",
       "632    D  4/9/2019      SOD          41.00\n",
       "633    D  4/9/2020      FM-15        55.94\n",
       "634    D  4/9/2020      FM-16        55.04\n",
       "635    D  4/9/2020      SOD          26.96\n",
       "\n",
       "[636 rows x 4 columns]"
      ]
     },
     "execution_count": 78,
     "metadata": {},
     "output_type": "execute_result"
    }
   ],
   "source": [
    "max_temp"
   ]
  },
  {
   "cell_type": "markdown",
   "metadata": {},
   "source": [
    "### c. Prepare a table which has average temperature by Zone across all day from table created above. "
   ]
  },
  {
   "cell_type": "code",
   "execution_count": 81,
   "metadata": {},
   "outputs": [],
   "source": [
    "avg_temp_by_zone = max_temp.groupby('Zone')['Temperature'].mean().reset_index()"
   ]
  },
  {
   "cell_type": "code",
   "execution_count": 82,
   "metadata": {},
   "outputs": [
    {
     "data": {
      "text/html": [
       "<div>\n",
       "<style scoped>\n",
       "    .dataframe tbody tr th:only-of-type {\n",
       "        vertical-align: middle;\n",
       "    }\n",
       "\n",
       "    .dataframe tbody tr th {\n",
       "        vertical-align: top;\n",
       "    }\n",
       "\n",
       "    .dataframe thead th {\n",
       "        text-align: right;\n",
       "    }\n",
       "</style>\n",
       "<table border=\"1\" class=\"dataframe\">\n",
       "  <thead>\n",
       "    <tr style=\"text-align: right;\">\n",
       "      <th></th>\n",
       "      <th>Zone</th>\n",
       "      <th>Temperature</th>\n",
       "    </tr>\n",
       "  </thead>\n",
       "  <tbody>\n",
       "    <tr>\n",
       "      <th>0</th>\n",
       "      <td>A</td>\n",
       "      <td>49.605767</td>\n",
       "    </tr>\n",
       "    <tr>\n",
       "      <th>1</th>\n",
       "      <td>B</td>\n",
       "      <td>48.954839</td>\n",
       "    </tr>\n",
       "    <tr>\n",
       "      <th>2</th>\n",
       "      <td>C</td>\n",
       "      <td>47.526380</td>\n",
       "    </tr>\n",
       "    <tr>\n",
       "      <th>3</th>\n",
       "      <td>D</td>\n",
       "      <td>48.954839</td>\n",
       "    </tr>\n",
       "  </tbody>\n",
       "</table>\n",
       "</div>"
      ],
      "text/plain": [
       "  Zone  Temperature\n",
       "0    A    49.605767\n",
       "1    B    48.954839\n",
       "2    C    47.526380\n",
       "3    D    48.954839"
      ]
     },
     "execution_count": 82,
     "metadata": {},
     "output_type": "execute_result"
    }
   ],
   "source": [
    "avg_temp_by_zone"
   ]
  },
  {
   "cell_type": "markdown",
   "metadata": {},
   "source": [
    "### Q4 Create html table with any sample data and write a script in Python to send an email to any recipient. You can \n",
    "### send email from any domain of your choice. "
   ]
  },
  {
   "cell_type": "code",
   "execution_count": null,
   "metadata": {},
   "outputs": [],
   "source": [
    "import smtplib\n",
    "from email.mime.multipart import MIMEMultipart\n",
    "from email.mime.text import MIMEText\n",
    "\n",
    "# Sample HTML table data\n",
    "html_table = \"\"\"\n",
    "<html>\n",
    "<head>\n",
    "<style>\n",
    "table {\n",
    "  font-family: Arial, sans-serif;\n",
    "  border-collapse: collapse;\n",
    "  width: 100%;\n",
    "}\n",
    "\n",
    "td, th {\n",
    "  border: 1px solid #dddddd;\n",
    "  text-align: left;\n",
    "  padding: 8px;\n",
    "}\n",
    "\n",
    "th {\n",
    "  background-color: #f2f2f2;\n",
    "}\n",
    "</style>\n",
    "</head>\n",
    "<body>\n",
    "\n",
    "<h2>Sample HTML Table</h2>\n",
    "<table>\n",
    "  <tr>\n",
    "    <th>Name</th>\n",
    "    <th>Age</th>\n",
    "    <th>Country</th>\n",
    "  </tr>\n",
    "  <tr>\n",
    "    <td>John</td>\n",
    "    <td>30</td>\n",
    "    <td>USA</td>\n",
    "  </tr>\n",
    "  <tr>\n",
    "    <td>Emily</td>\n",
    "    <td>25</td>\n",
    "    <td>Canada</td>\n",
    "  </tr>\n",
    "  <tr>\n",
    "    <td>Michael</td>\n",
    "    <td>35</td>\n",
    "    <td>UK</td>\n",
    "  </tr>\n",
    "</table>\n",
    "\n",
    "</body>\n",
    "</html>\n",
    "\"\"\"\n",
    "\n",
    "# Email details\n",
    "sender_email = \"tirth_email@gmail.com\"  # Your Gmail address\n",
    "sender_password = \"tirth_password\"  # Your Gmail password\n",
    "receiver_email = \"recipient@example.com\"  # Recipient email address\n",
    "subject = \"Sample ananta job application via Email\"\n",
    "\n",
    "# Create the email content\n",
    "msg = MIMEMultipart()\n",
    "msg['From'] = sender_email\n",
    "msg['To'] = receiver_email\n",
    "msg['Subject'] = subject\n",
    "\n",
    "# Attach HTML content to the email\n",
    "msg.attach(MIMEText(html_table, 'html'))\n",
    "\n",
    "# Connect to Gmail's SMTP server\n",
    "server = smtplib.SMTP_SSL('smtp.gmail.com', 465)\n",
    "server.login(sender_email, sender_password)\n",
    "\n",
    "# Send the email\n",
    "server.sendmail(sender_email, receiver_email, msg.as_string())\n",
    "server.quit()\n",
    "\n",
    "print(\"Email sent successfully!\")\n"
   ]
  },
  {
   "cell_type": "markdown",
   "metadata": {},
   "source": [
    "### Q5 sql query as following"
   ]
  },
  {
   "attachments": {
    "image.png": {
     "image/png": "[encoded data removed]"
    }
   },
   "cell_type": "markdown",
   "metadata": {},
   "source": [
    "![image.png](attachment:image.png)"
   ]
  },
  {
   "cell_type": "markdown",
   "metadata": {},
   "source": [
    "#### SELECT HOUR(date_time) AS hour_of_day, AVG(price) AS avg_price\n",
    "#### FROM my_table\n",
    "#### GROUP BY hour_of_day\n",
    "#### ORDER BY avg_price\n",
    "#### LIMIT 1, 1;\n"
   ]
  },
  {
   "cell_type": "markdown",
   "metadata": {},
   "source": [
    "### Explaination"
   ]
  },
  {
   "cell_type": "markdown",
   "metadata": {},
   "source": [
    "### Extracts the hour from the date_time column using the HOUR() function.\n",
    "### Calculates the average price for each hour using the AVG() function.\n",
    "### Groups the data by hour of the day.\n",
    "### Orders the result by average price in ascending order.\n",
    "### Uses LIMIT 1, 1 to skip the first row and select the second row, which represents the second lowest average price"
   ]
  },
  {
   "cell_type": "markdown",
   "metadata": {},
   "source": []
  }
 ],
 "metadata": {
  "kernelspec": {
   "display_name": "Python 3",
   "language": "python",
   "name": "python3"
  },
  "language_info": {
   "codemirror_mode": {
    "name": "ipython",
    "version": 3
   },
   "file_extension": ".py",
   "mimetype": "text/x-python",
   "name": "python",
   "nbconvert_exporter": "python",
   "pygments_lexer": "ipython3",
   "version": "3.10.2"
  }
 },
 "nbformat": 4,
 "nbformat_minor": 2
}
